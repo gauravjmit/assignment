{
 "cells": [
  {
   "cell_type": "markdown",
   "id": "714ce39e",
   "metadata": {},
   "source": [
    "# Assignment of Data Science"
   ]
  },
  {
   "cell_type": "markdown",
   "id": "a2924fb4",
   "metadata": {},
   "source": [
    "**Introduction**"
   ]
  },
  {
   "cell_type": "markdown",
   "id": "5fbcd2d2",
   "metadata": {},
   "source": [
    "Data Science languages:\n",
    "1. R \n",
    "2. Python\n",
    "3. JavaScript\n",
    "4. SQL"
   ]
  },
  {
   "cell_type": "markdown",
   "id": "2350bdb1",
   "metadata": {},
   "source": [
    "**Libraries for Data Science**\n",
    "1. NumPy\n",
    "2. SciKit-Learn\n",
    "3. Matplotlib \n",
    "4. Pandas\n",
    "5. TensorFlow"
   ]
  },
  {
   "cell_type": "markdown",
   "id": "2f26de56",
   "metadata": {},
   "source": [
    "**table of Data Science tools**\n",
    "1. Tableau\n",
    "2. Google Analytics\n",
    "3. R (RStudio)\n",
    "4. BigML\n",
    "5. Jupyter"
   ]
  },
  {
   "cell_type": "markdown",
   "id": "941969aa",
   "metadata": {},
   "source": [
    "**Arithmetic expression examples**\n",
    "  > 2+2=4"
   ]
  },
  {
   "cell_type": "code",
   "execution_count": 15,
   "id": "edc1b878",
   "metadata": {},
   "outputs": [
    {
     "name": "stdout",
     "output_type": "stream",
     "text": [
      "Sum of Two number===> 12\n",
      "Multiplication of Two number===> 20\n"
     ]
    }
   ],
   "source": [
    "#Program to multiply and add numbers\n",
    "\n",
    "num1=10\n",
    "num2=2\n",
    "num3=num1+num2\n",
    "num4=num1*num2\n",
    "print(\"Sum of Two number===>\", num3)\n",
    "print(\"Multiplication of Two number===>\", num4)"
   ]
  },
  {
   "cell_type": "code",
   "execution_count": 16,
   "id": "fd662c7c",
   "metadata": {},
   "outputs": [
    {
     "name": "stdout",
     "output_type": "stream",
     "text": [
      "Enter Minutes :--> 80\n",
      "Hour : Minute :-->  1  :  20\n"
     ]
    }
   ],
   "source": [
    "# Python Program to Convert Minute to Hour\n",
    "min = int(input(\"Enter Minutes :--> \"))\n",
    "print(\"Hour : Minute :--> \", int(min/60), \" : \", min % 60)"
   ]
  },
  {
   "cell_type": "markdown",
   "id": "9a446bef",
   "metadata": {},
   "source": [
    "** list Objectives**\n",
    "1. Provide Insights About the Roles of a Data Scientist\n",
    "2. Enable to Analyze of Big Data\n",
    "3. Learn Techniques and Tools for Transformation of Data\n",
    "4. Make You Figure Out Machine Learning Algorithms"
   ]
  },
  {
   "cell_type": "markdown",
   "id": "f51bbfcb",
   "metadata": {},
   "source": [
    "## Author’s name: Dr. Gaurav Sharma"
   ]
  },
  {
   "cell_type": "code",
   "execution_count": null,
   "id": "fb2afbed",
   "metadata": {},
   "outputs": [],
   "source": []
  }
 ],
 "metadata": {
  "kernelspec": {
   "display_name": "Python 3 (ipykernel)",
   "language": "python",
   "name": "python3"
  },
  "language_info": {
   "codemirror_mode": {
    "name": "ipython",
    "version": 3
   },
   "file_extension": ".py",
   "mimetype": "text/x-python",
   "name": "python",
   "nbconvert_exporter": "python",
   "pygments_lexer": "ipython3",
   "version": "3.9.13"
  }
 },
 "nbformat": 4,
 "nbformat_minor": 5
}
